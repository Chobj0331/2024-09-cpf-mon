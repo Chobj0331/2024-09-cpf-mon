{
  "nbformat": 4,
  "nbformat_minor": 0,
  "metadata": {
    "colab": {
      "provenance": []
    },
    "kernelspec": {
      "name": "python3",
      "display_name": "Python 3"
    },
    "language_info": {
      "name": "python"
    }
  },
  "cells": [
    {
      "cell_type": "code",
      "execution_count": 5,
      "metadata": {
        "colab": {
          "base_uri": "https://localhost:8080/"
        },
        "id": "m8dk7tmqY4Li",
        "outputId": "003fb2b9-eaa5-4ce0-f72c-a3027a929ca0"
      },
      "outputs": [
        {
          "output_type": "stream",
          "name": "stdout",
          "text": [
            "방학이 너무 짧다.\n"
          ]
        }
      ],
      "source": [
        "print(\"방학이 너무 짧다.\")\n"
      ]
    },
    {
      "cell_type": "code",
      "source": [],
      "metadata": {
        "id": "V4DwhWAIZBB6"
      },
      "execution_count": null,
      "outputs": []
    }
  ]
}